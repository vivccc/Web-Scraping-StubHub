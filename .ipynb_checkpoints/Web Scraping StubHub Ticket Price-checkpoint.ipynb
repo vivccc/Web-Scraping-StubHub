{
 "cells": [
  {
   "cell_type": "code",
   "execution_count": 1,
   "metadata": {
    "collapsed": true
   },
   "outputs": [],
   "source": [
    "import time\n",
    "from selenium import webdriver\n",
    "from selenium.webdriver.common.by import By\n",
    "from selenium.webdriver.support.ui import WebDriverWait\n",
    "from selenium.webdriver.support import expected_conditions as EC\n",
    "from selenium.common.exceptions import TimeoutException\n",
    "from selenium.webdriver.common.keys import Keys"
   ]
  },
  {
   "cell_type": "code",
   "execution_count": 2,
   "metadata": {
    "collapsed": true
   },
   "outputs": [],
   "source": [
    "# driver = webdriver.Chrome()\n",
    "# If Chrome starts up and says \"Chrome is being controlled by automated test software\", \n",
    "# everything is good"
   ]
  },
  {
   "cell_type": "code",
   "execution_count": 2,
   "metadata": {
    "collapsed": true,
    "scrolled": true
   },
   "outputs": [],
   "source": [
    "def init_driver():\n",
    "    driver = webdriver.Chrome()\n",
    "    driver.wait = WebDriverWait(driver, 5)\n",
    "    return driver\n",
    " \n",
    "def lookup(driver, query):\n",
    "    driver.get(\"http://www.google.com\")\n",
    "    try:\n",
    "        box = driver.wait.until(EC.presence_of_element_located(\n",
    "            (By.NAME, \"q\")))\n",
    "        button = driver.wait.until(EC.element_to_be_clickable(\n",
    "            (By.NAME, \"btnK\")))\n",
    "        box.send_keys(query)\n",
    "        button.click()\n",
    "    except TimeoutException:\n",
    "        print(\"Box or Button not found in google.com\")\n",
    " \n",
    " \n",
    "if __name__ == \"__main__\":\n",
    "    driver = init_driver()\n",
    "    lookup(driver, \"Selenium\")\n",
    "    time.sleep(5)\n",
    "    driver.quit()"
   ]
  },
  {
   "cell_type": "code",
   "execution_count": 3,
   "metadata": {
    "collapsed": true
   },
   "outputs": [],
   "source": [
    "# initialize driver\n",
    "driver = webdriver.Chrome()\n",
    "driver.wait = WebDriverWait(driver, 5)"
   ]
  },
  {
   "cell_type": "code",
   "execution_count": 4,
   "metadata": {
    "collapsed": true
   },
   "outputs": [],
   "source": [
    "driver.get(\"https://www.stubhub.com/nashville-predators-tickets-nashville-predators-nashville-bridgestone-arena-11-22-2017/event/103044253/?sort=price+asc\")"
   ]
  },
  {
   "cell_type": "code",
   "execution_count": 5,
   "metadata": {
    "scrolled": true
   },
   "outputs": [
    {
     "name": "stdout",
     "output_type": "stream",
     "text": [
      "ticketBoxIndex 0\n",
      "ticketBoxIndex 5\n",
      "ticketBoxIndex 10\n",
      "ticketBoxIndex 15\n",
      "ticketBoxIndex 20\n",
      "ticketBoxIndex 25\n",
      "ticketBoxIndex 30\n",
      "ticketBoxIndex 35\n",
      "ticketBoxIndex 40\n",
      "ticketBoxIndex 45\n",
      "ticketBoxIndex 50\n",
      "ticketBoxIndex 55\n",
      "ticketBoxIndex 60\n",
      "ticketBoxIndex 65\n",
      "ticketBoxIndex 70\n",
      "ticketBoxIndex 75\n",
      "ticketBoxIndex 80\n",
      "ticketBoxIndex 85\n",
      "ticketBoxIndex 90\n",
      "ticketBoxIndex 95\n",
      "ticketBoxIndex 100\n",
      "ticketBoxIndex 105\n",
      "ticketBoxIndex 110\n",
      "ticketBoxIndex 115\n",
      "ticketBoxIndex 120\n",
      "ticketBoxIndex 125\n",
      "ticketBoxIndex 130\n",
      "ticketBoxIndex 135\n",
      "ticketBoxIndex 140\n",
      "ticketBoxIndex 145\n",
      "ticketBoxIndex 150\n"
     ]
    }
   ],
   "source": [
    "# Scrolling to 5 * i th elements for every 1 second -- to display them all\n",
    "for ticketBoxIndex in range(0, 200, 5):\n",
    "    try:\n",
    "        print(\"ticketBoxIndex %d\" % ticketBoxIndex)\n",
    "        driver.execute_script(\"$('.rowcell')[\" + str(ticketBoxIndex) + \"].scrollIntoView(true);\")\n",
    "        time.sleep(1)\n",
    "    except:\n",
    "        break"
   ]
  },
  {
   "cell_type": "code",
   "execution_count": 6,
   "metadata": {},
   "outputs": [
    {
     "name": "stdout",
     "output_type": "stream",
     "text": [
      "$55.00\n",
      "$63.63\n",
      "$70.00\n",
      "$70.00\n",
      "$70.95\n",
      "$77.00\n",
      "$77.20\n",
      "$79.58\n",
      "$81.15\n"
     ]
    }
   ],
   "source": [
    "# all tickets are now shown in #div by the above scrolling, let's get all statistics\n",
    "\n",
    "ticket_section_elems   = driver.find_elements_by_css_selector('.sectioncell')\n",
    "ticket_row_elems     = driver.find_elements_by_css_selector('.rowcell')\n",
    "ticket_price_elems = driver.find_elements_by_css_selector('.partials')\n",
    "ticket_num__elems    = driver.find_elements_by_css_selector('.ticketsText')\n",
    "\n",
    "# Example \n",
    "for elem in ticket_price_elems[1:10]:\n",
    "    print(elem.text)"
   ]
  },
  {
   "cell_type": "code",
   "execution_count": 7,
   "metadata": {
    "collapsed": true
   },
   "outputs": [],
   "source": [
    "# This transformation is heavy\n",
    "price_list      = [  price.text for   price in ticket_price_elems]\n",
    "row_list        = [    row.text for     row in ticket_row_elems]\n",
    "section_list    = [section.text for section in ticket_section_elems]\n",
    "ticket_num_list = [    num.text for     num in ticket_num__elems]"
   ]
  },
  {
   "cell_type": "code",
   "execution_count": 8,
   "metadata": {
    "collapsed": true
   },
   "outputs": [],
   "source": [
    "import pandas as pd\n",
    "\n",
    "mydf = pd.DataFrame(\n",
    "    {'price':    price_list,\n",
    "     'row':        row_list,\n",
    "     'section':    section_list,\n",
    "     'ticket_num': ticket_num_list\n",
    "    })"
   ]
  },
  {
   "cell_type": "code",
   "execution_count": 16,
   "metadata": {
    "scrolled": true
   },
   "outputs": [
    {
     "name": "stdout",
     "output_type": "stream",
     "text": [
      "         price         row                        section   ticket_num\n",
      "0       $50.99           R          Balcony Goal Zone 333     1 ticket\n",
      "1       $55.00           T          Balcony Goal Zone 333    2 tickets\n",
      "2       $63.63           P          Balcony Goal Zone 329    2 tickets\n",
      "3       $70.00           K          Balcony Goal Zone 301    2 tickets\n",
      "4       $70.00           m          Balcony Goal Zone 331     1 ticket\n",
      "5       $70.95           M          Balcony Goal Zone 333    4 tickets\n",
      "6       $77.00           T          Balcony Goal Zone 333  1-6 tickets\n",
      "7       $77.20           K          Balcony Goal Zone 331  1-4 tickets\n",
      "8       $79.58           J          Balcony Goal Zone 331  1-4 tickets\n",
      "9       $81.15           J          Balcony Goal Zone 332  1-6 tickets\n",
      "10      $81.40           P          Balcony Goal Zone 331  1-3 tickets\n",
      "11      $81.40           S          Balcony Goal Zone 302  1-5 tickets\n",
      "12      $85.00           J          Balcony Goal Zone 301    2 tickets\n",
      "13      $86.00           G           Sideline Balcony 307    2 tickets\n",
      "14      $89.00           S          Balcony Goal Zone 306    2 tickets\n",
      "15      $90.00           A          Balcony Goal Zone 333    2 tickets\n",
      "16      $90.00           G          Balcony Goal Zone 332    2 tickets\n",
      "17      $91.00           L          Balcony Goal Zone 329     1 ticket\n",
      "18      $92.40           F          Balcony Goal Zone 330  1-4 tickets\n",
      "19      $94.00           A          Balcony Goal Zone 333    2 tickets\n",
      "20      $94.99           E                  Mezzanine 320  1-3 tickets\n",
      "21      $95.95           H         Lower Bowl Endzone 119     1 ticket\n",
      "22      $96.95           K           Sideline Balcony 309    2 tickets\n",
      "23      $97.00           L           Sideline Balcony 325    2 tickets\n",
      "24      $97.90           B          Balcony Goal Zone 303    2 tickets\n",
      "25      $97.90           B          Balcony Goal Zone 303    2 tickets\n",
      "26      $98.00           K           Sideline Balcony 328  1-6 tickets\n",
      "27      $98.29           H           Sideline Balcony 307  1-4 tickets\n",
      "28      $98.98           G            Shoot Once Club 204    2 tickets\n",
      "29      $99.00           L                  Mezzanine 320    2 tickets\n",
      "..         ...         ...                            ...          ...\n",
      "120    $222.60           N          Lower Bowl Center 105    2 tickets\n",
      "121    $225.00          FF  Premium Lower Bowl Center 117    2 tickets\n",
      "122    $225.00           D         Lower Bowl Endzone 103  1-6 tickets\n",
      "123    $236.50          JJ  Premium Lower Bowl Center 104    2 tickets\n",
      "124    $240.00          HH    Premium Lower Bowl Goal 118  1-4 tickets\n",
      "125    $240.00           L          Lower Bowl Center 117    2 tickets\n",
      "126    $241.63           M          Lower Bowl Center 117    2 tickets\n",
      "127    $241.63           N          Lower Bowl Center 107    2 tickets\n",
      "128    $245.00           M          Lower Bowl Center 115    2 tickets\n",
      "129    $247.69          HH  Premium Lower Bowl Center 114    2 tickets\n",
      "130    $247.69          JJ  Premium Lower Bowl Center 104    2 tickets\n",
      "131    $249.00           D                Sprint Club 208  1-4 tickets\n",
      "132    $250.00          HH  Premium Lower Bowl Center 105    2 tickets\n",
      "133    $250.00           C         Lower Bowl Endzone 118    2 tickets\n",
      "134    $254.61          MM  Premium Lower Bowl Center 115    2 tickets\n",
      "135    $265.00          HH  Premium Lower Bowl Center 114    2 tickets\n",
      "136    $267.49           S          Balcony Goal Zone 302    4 tickets\n",
      "137    $270.00           F         Lower Bowl Endzone 118    2 tickets\n",
      "138    $275.00          JJ  Premium Lower Bowl Center 115  1-3 tickets\n",
      "139    $275.00          MM         Lower Bowl Endzone 118  1-8 tickets\n",
      "140    $299.00           F  Premium Lower Bowl Center 117  1-5 tickets\n",
      "141    $300.00          FF  Premium Lower Bowl Center 117    2 tickets\n",
      "142    $300.00          KK  Premium Lower Bowl Center 117    2 tickets\n",
      "143    $320.99           N          Balcony Goal Zone 329  1-4 tickets\n",
      "144    $325.00           C  Premium Lower Bowl Center 117  1-6 tickets\n",
      "145    $398.17          GG  Premium Lower Bowl Center 105    2 tickets\n",
      "146    $500.00           J         Lower Bowl Endzone 119    2 tickets\n",
      "147    $144.00        PASS                        PARKING     1 ticket\n",
      "148    $210.00           O                            114  1-8 tickets\n",
      "149  $6,800.00  16-TICKETS                   LUXURY SUITE     1 ticket\n",
      "\n",
      "[150 rows x 4 columns]\n"
     ]
    }
   ],
   "source": [
    "print(mydf)"
   ]
  },
  {
   "cell_type": "code",
   "execution_count": 13,
   "metadata": {},
   "outputs": [
    {
     "name": "stdout",
     "output_type": "stream",
     "text": [
      "Montreal Canadiens at Nashville Predators Tickets\n"
     ]
    }
   ],
   "source": [
    "event_title = driver.find_elements_by_css_selector('.header')[0].text\n",
    "print(event_title)"
   ]
  },
  {
   "cell_type": "code",
   "execution_count": 14,
   "metadata": {
    "collapsed": true
   },
   "outputs": [],
   "source": [
    "mydf.to_csv(path_or_buf= event_title.replace(' ', '-') + '.csv', index=False)"
   ]
  },
  {
   "cell_type": "code",
   "execution_count": 15,
   "metadata": {
    "collapsed": true
   },
   "outputs": [],
   "source": [
    "driver.close()"
   ]
  },
  {
   "cell_type": "code",
   "execution_count": null,
   "metadata": {
    "collapsed": true
   },
   "outputs": [],
   "source": []
  }
 ],
 "metadata": {
  "kernelspec": {
   "display_name": "Python 3",
   "language": "python",
   "name": "python3"
  },
  "language_info": {
   "codemirror_mode": {
    "name": "ipython",
    "version": 3
   },
   "file_extension": ".py",
   "mimetype": "text/x-python",
   "name": "python",
   "nbconvert_exporter": "python",
   "pygments_lexer": "ipython3",
   "version": "3.6.1"
  }
 },
 "nbformat": 4,
 "nbformat_minor": 2
}
